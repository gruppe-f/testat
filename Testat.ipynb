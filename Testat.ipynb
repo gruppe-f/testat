{
 "cells": [
  {
   "cell_type": "code",
   "execution_count": 1,
   "metadata": {
    "collapsed": true,
    "jupyter": {
     "outputs_hidden": true
    }
   },
   "outputs": [
    {
     "name": "stderr",
     "output_type": "stream",
     "text": [
      "── \u001b[1mAttaching packages\u001b[22m ─────────────────────────────────────── tidyverse 1.3.0 ──\n",
      "\n",
      "\u001b[32m✔\u001b[39m \u001b[34mggplot2\u001b[39m 3.3.2     \u001b[32m✔\u001b[39m \u001b[34mpurrr  \u001b[39m 0.3.4\n",
      "\u001b[32m✔\u001b[39m \u001b[34mtibble \u001b[39m 3.0.3     \u001b[32m✔\u001b[39m \u001b[34mdplyr  \u001b[39m 1.0.2\n",
      "\u001b[32m✔\u001b[39m \u001b[34mtidyr  \u001b[39m 1.1.2     \u001b[32m✔\u001b[39m \u001b[34mstringr\u001b[39m 1.4.0\n",
      "\u001b[32m✔\u001b[39m \u001b[34mreadr  \u001b[39m 1.3.1     \u001b[32m✔\u001b[39m \u001b[34mforcats\u001b[39m 0.5.0\n",
      "\n",
      "── \u001b[1mConflicts\u001b[22m ────────────────────────────────────────── tidyverse_conflicts() ──\n",
      "\u001b[31m✖\u001b[39m \u001b[34mdplyr\u001b[39m::\u001b[32mfilter()\u001b[39m masks \u001b[34mstats\u001b[39m::filter()\n",
      "\u001b[31m✖\u001b[39m \u001b[34mdplyr\u001b[39m::\u001b[32mlag()\u001b[39m    masks \u001b[34mstats\u001b[39m::lag()\n",
      "\n",
      "\n",
      "Attaching package: ‘lubridate’\n",
      "\n",
      "\n",
      "The following objects are masked from ‘package:base’:\n",
      "\n",
      "    date, intersect, setdiff, union\n",
      "\n",
      "\n"
     ]
    }
   ],
   "source": [
    "library(tidyverse)\n",
    "library(lubridate\n",
    "       )"
   ]
  },
  {
   "cell_type": "code",
   "execution_count": 2,
   "metadata": {
    "collapsed": true,
    "jupyter": {
     "outputs_hidden": true
    }
   },
   "outputs": [
    {
     "name": "stderr",
     "output_type": "stream",
     "text": [
      "Parsed with column specification:\n",
      "cols(\n",
      "  FK_ZAEHLER = \u001b[31mcol_character()\u001b[39m,\n",
      "  FK_STANDORT = \u001b[32mcol_double()\u001b[39m,\n",
      "  DATUM = \u001b[34mcol_datetime(format = \"\")\u001b[39m,\n",
      "  VELO_IN = \u001b[32mcol_double()\u001b[39m,\n",
      "  VELO_OUT = \u001b[32mcol_double()\u001b[39m,\n",
      "  FUSS_IN = \u001b[32mcol_double()\u001b[39m,\n",
      "  FUSS_OUT = \u001b[32mcol_double()\u001b[39m,\n",
      "  OST = \u001b[32mcol_double()\u001b[39m,\n",
      "  NORD = \u001b[32mcol_double()\u001b[39m\n",
      ")\n",
      "\n"
     ]
    }
   ],
   "source": [
    "read_csv(\"2019_verkehrszaehlungen_werte_fussgaenger_velo.csv\") -> Data"
   ]
  },
  {
   "cell_type": "markdown",
   "metadata": {},
   "source": [
    "# Ungefilterte Datensätze"
   ]
  },
  {
   "cell_type": "markdown",
   "metadata": {},
   "source": [
    "## Anzahl der Datensätze"
   ]
  },
  {
   "cell_type": "code",
   "execution_count": 3,
   "metadata": {},
   "outputs": [
    {
     "data": {
      "text/html": [
       "1264678"
      ],
      "text/latex": [
       "1264678"
      ],
      "text/markdown": [
       "1264678"
      ],
      "text/plain": [
       "[1] 1264678"
      ]
     },
     "metadata": {},
     "output_type": "display_data"
    }
   ],
   "source": [
    "Data %>% count %>% pull"
   ]
  },
  {
   "cell_type": "markdown",
   "metadata": {},
   "source": [
    "## Anzahl Vektoren"
   ]
  },
  {
   "cell_type": "code",
   "execution_count": 4,
   "metadata": {},
   "outputs": [
    {
     "data": {
      "text/html": [
       "<style>\n",
       ".list-inline {list-style: none; margin:0; padding: 0}\n",
       ".list-inline>li {display: inline-block}\n",
       ".list-inline>li:not(:last-child)::after {content: \"\\00b7\"; padding: 0 .5ex}\n",
       "</style>\n",
       "<ol class=list-inline><li>'FK_ZAEHLER'</li><li>'FK_STANDORT'</li><li>'DATUM'</li><li>'VELO_IN'</li><li>'VELO_OUT'</li><li>'FUSS_IN'</li><li>'FUSS_OUT'</li><li>'OST'</li><li>'NORD'</li></ol>\n"
      ],
      "text/latex": [
       "\\begin{enumerate*}\n",
       "\\item 'FK\\_ZAEHLER'\n",
       "\\item 'FK\\_STANDORT'\n",
       "\\item 'DATUM'\n",
       "\\item 'VELO\\_IN'\n",
       "\\item 'VELO\\_OUT'\n",
       "\\item 'FUSS\\_IN'\n",
       "\\item 'FUSS\\_OUT'\n",
       "\\item 'OST'\n",
       "\\item 'NORD'\n",
       "\\end{enumerate*}\n"
      ],
      "text/markdown": [
       "1. 'FK_ZAEHLER'\n",
       "2. 'FK_STANDORT'\n",
       "3. 'DATUM'\n",
       "4. 'VELO_IN'\n",
       "5. 'VELO_OUT'\n",
       "6. 'FUSS_IN'\n",
       "7. 'FUSS_OUT'\n",
       "8. 'OST'\n",
       "9. 'NORD'\n",
       "\n",
       "\n"
      ],
      "text/plain": [
       "[1] \"FK_ZAEHLER\"  \"FK_STANDORT\" \"DATUM\"       \"VELO_IN\"     \"VELO_OUT\"   \n",
       "[6] \"FUSS_IN\"     \"FUSS_OUT\"    \"OST\"         \"NORD\"       "
      ]
     },
     "metadata": {},
     "output_type": "display_data"
    }
   ],
   "source": [
    "Data %>% names()"
   ]
  },
  {
   "cell_type": "code",
   "execution_count": 5,
   "metadata": {},
   "outputs": [
    {
     "data": {
      "text/html": [
       "9"
      ],
      "text/latex": [
       "9"
      ],
      "text/markdown": [
       "9"
      ],
      "text/plain": [
       "[1] 9"
      ]
     },
     "metadata": {},
     "output_type": "display_data"
    }
   ],
   "source": [
    "Data %>% names() %>% length()"
   ]
  },
  {
   "cell_type": "markdown",
   "metadata": {},
   "source": [
    "# Gefilterte Datensätze"
   ]
  },
  {
   "cell_type": "code",
   "execution_count": 6,
   "metadata": {},
   "outputs": [],
   "source": [
    "filter(Data, FK_ZAEHLER== \"U15G3063872\") -> MyData"
   ]
  },
  {
   "cell_type": "markdown",
   "metadata": {},
   "source": [
    "## Anzahl Datensätze"
   ]
  },
  {
   "cell_type": "code",
   "execution_count": 7,
   "metadata": {},
   "outputs": [
    {
     "data": {
      "text/html": [
       "35039"
      ],
      "text/latex": [
       "35039"
      ],
      "text/markdown": [
       "35039"
      ],
      "text/plain": [
       "[1] 35039"
      ]
     },
     "metadata": {},
     "output_type": "display_data"
    }
   ],
   "source": [
    "MyData %>% count %>% pull"
   ]
  },
  {
   "cell_type": "code",
   "execution_count": 8,
   "metadata": {},
   "outputs": [],
   "source": [
    "MyData %>% mutate(\n",
    "Monat = month(DATUM,1, label = FALSE)\n",
    ") -> MyDataMon"
   ]
  },
  {
   "cell_type": "markdown",
   "metadata": {},
   "source": [
    "#### Anzahl Datensätze pro Monat"
   ]
  },
  {
   "cell_type": "code",
   "execution_count": 9,
   "metadata": {
    "collapsed": true,
    "jupyter": {
     "outputs_hidden": true
    }
   },
   "outputs": [
    {
     "data": {
      "text/html": [
       "<table>\n",
       "<caption>A spec_tbl_df: 12 × 2</caption>\n",
       "<thead>\n",
       "\t<tr><th scope=col>Monat</th><th scope=col>n</th></tr>\n",
       "\t<tr><th scope=col>&lt;dbl&gt;</th><th scope=col>&lt;int&gt;</th></tr>\n",
       "</thead>\n",
       "<tbody>\n",
       "\t<tr><td> 1</td><td>2976</td></tr>\n",
       "\t<tr><td> 2</td><td>2688</td></tr>\n",
       "\t<tr><td> 3</td><td>2972</td></tr>\n",
       "\t<tr><td> 4</td><td>2880</td></tr>\n",
       "\t<tr><td> 5</td><td>2976</td></tr>\n",
       "\t<tr><td> 6</td><td>2880</td></tr>\n",
       "\t<tr><td> 7</td><td>2976</td></tr>\n",
       "\t<tr><td> 8</td><td>2976</td></tr>\n",
       "\t<tr><td> 9</td><td>2880</td></tr>\n",
       "\t<tr><td>10</td><td>2979</td></tr>\n",
       "\t<tr><td>11</td><td>2880</td></tr>\n",
       "\t<tr><td>12</td><td>2976</td></tr>\n",
       "</tbody>\n",
       "</table>\n"
      ],
      "text/latex": [
       "A spec\\_tbl\\_df: 12 × 2\n",
       "\\begin{tabular}{ll}\n",
       " Monat & n\\\\\n",
       " <dbl> & <int>\\\\\n",
       "\\hline\n",
       "\t  1 & 2976\\\\\n",
       "\t  2 & 2688\\\\\n",
       "\t  3 & 2972\\\\\n",
       "\t  4 & 2880\\\\\n",
       "\t  5 & 2976\\\\\n",
       "\t  6 & 2880\\\\\n",
       "\t  7 & 2976\\\\\n",
       "\t  8 & 2976\\\\\n",
       "\t  9 & 2880\\\\\n",
       "\t 10 & 2979\\\\\n",
       "\t 11 & 2880\\\\\n",
       "\t 12 & 2976\\\\\n",
       "\\end{tabular}\n"
      ],
      "text/markdown": [
       "\n",
       "A spec_tbl_df: 12 × 2\n",
       "\n",
       "| Monat &lt;dbl&gt; | n &lt;int&gt; |\n",
       "|---|---|\n",
       "|  1 | 2976 |\n",
       "|  2 | 2688 |\n",
       "|  3 | 2972 |\n",
       "|  4 | 2880 |\n",
       "|  5 | 2976 |\n",
       "|  6 | 2880 |\n",
       "|  7 | 2976 |\n",
       "|  8 | 2976 |\n",
       "|  9 | 2880 |\n",
       "| 10 | 2979 |\n",
       "| 11 | 2880 |\n",
       "| 12 | 2976 |\n",
       "\n"
      ],
      "text/plain": [
       "   Monat n   \n",
       "1   1    2976\n",
       "2   2    2688\n",
       "3   3    2972\n",
       "4   4    2880\n",
       "5   5    2976\n",
       "6   6    2880\n",
       "7   7    2976\n",
       "8   8    2976\n",
       "9   9    2880\n",
       "10 10    2979\n",
       "11 11    2880\n",
       "12 12    2976"
      ]
     },
     "metadata": {},
     "output_type": "display_data"
    }
   ],
   "source": [
    "MyDataMon %>% count(Monat)"
   ]
  },
  {
   "cell_type": "markdown",
   "metadata": {},
   "source": [
    "#### Anzahl Begehungen IN / Jahr"
   ]
  },
  {
   "cell_type": "code",
   "execution_count": 39,
   "metadata": {},
   "outputs": [
    {
     "data": {
      "text/html": [
       "738105"
      ],
      "text/latex": [
       "738105"
      ],
      "text/markdown": [
       "738105"
      ],
      "text/plain": [
       "[1] 738105"
      ]
     },
     "metadata": {},
     "output_type": "display_data"
    }
   ],
   "source": [
    "MyData %>% pull(FUSS_IN) %>% sum() "
   ]
  },
  {
   "cell_type": "markdown",
   "metadata": {},
   "source": [
    "#### Anzahl Begehungen OUT / Jahr"
   ]
  },
  {
   "cell_type": "code",
   "execution_count": 38,
   "metadata": {},
   "outputs": [
    {
     "data": {
      "text/html": [
       "1351669"
      ],
      "text/latex": [
       "1351669"
      ],
      "text/markdown": [
       "1351669"
      ],
      "text/plain": [
       "[1] 1351669"
      ]
     },
     "metadata": {},
     "output_type": "display_data"
    }
   ],
   "source": [
    "MyData %>% pull(FUSS_OUT) %>% sum() "
   ]
  },
  {
   "cell_type": "markdown",
   "metadata": {},
   "source": [
    "## Aufgabe 1a "
   ]
  },
  {
   "cell_type": "markdown",
   "metadata": {},
   "source": [
    "#### Durchschnitt pro Monat IN"
   ]
  },
  {
   "cell_type": "code",
   "execution_count": 12,
   "metadata": {
    "collapsed": true,
    "jupyter": {
     "outputs_hidden": true
    }
   },
   "outputs": [
    {
     "name": "stderr",
     "output_type": "stream",
     "text": [
      "`summarise()` ungrouping output (override with `.groups` argument)\n",
      "\n"
     ]
    },
    {
     "data": {
      "text/html": [
       "<table>\n",
       "<caption>A tibble: 12 × 2</caption>\n",
       "<thead>\n",
       "\t<tr><th scope=col>Monat</th><th scope=col>Durschschnitt_In</th></tr>\n",
       "\t<tr><th scope=col>&lt;dbl&gt;</th><th scope=col>&lt;dbl&gt;</th></tr>\n",
       "</thead>\n",
       "<tbody>\n",
       "\t<tr><td> 1</td><td>17.11190</td></tr>\n",
       "\t<tr><td> 2</td><td>22.31250</td></tr>\n",
       "\t<tr><td> 3</td><td>23.54711</td></tr>\n",
       "\t<tr><td> 4</td><td>21.62292</td></tr>\n",
       "\t<tr><td> 5</td><td>23.31855</td></tr>\n",
       "\t<tr><td> 6</td><td>22.81146</td></tr>\n",
       "\t<tr><td> 7</td><td>21.58770</td></tr>\n",
       "\t<tr><td> 8</td><td>19.82292</td></tr>\n",
       "\t<tr><td> 9</td><td>20.69479</td></tr>\n",
       "\t<tr><td>10</td><td>20.99631</td></tr>\n",
       "\t<tr><td>11</td><td>21.53021</td></tr>\n",
       "\t<tr><td>12</td><td>17.62802</td></tr>\n",
       "</tbody>\n",
       "</table>\n"
      ],
      "text/latex": [
       "A tibble: 12 × 2\n",
       "\\begin{tabular}{ll}\n",
       " Monat & Durschschnitt\\_In\\\\\n",
       " <dbl> & <dbl>\\\\\n",
       "\\hline\n",
       "\t  1 & 17.11190\\\\\n",
       "\t  2 & 22.31250\\\\\n",
       "\t  3 & 23.54711\\\\\n",
       "\t  4 & 21.62292\\\\\n",
       "\t  5 & 23.31855\\\\\n",
       "\t  6 & 22.81146\\\\\n",
       "\t  7 & 21.58770\\\\\n",
       "\t  8 & 19.82292\\\\\n",
       "\t  9 & 20.69479\\\\\n",
       "\t 10 & 20.99631\\\\\n",
       "\t 11 & 21.53021\\\\\n",
       "\t 12 & 17.62802\\\\\n",
       "\\end{tabular}\n"
      ],
      "text/markdown": [
       "\n",
       "A tibble: 12 × 2\n",
       "\n",
       "| Monat &lt;dbl&gt; | Durschschnitt_In &lt;dbl&gt; |\n",
       "|---|---|\n",
       "|  1 | 17.11190 |\n",
       "|  2 | 22.31250 |\n",
       "|  3 | 23.54711 |\n",
       "|  4 | 21.62292 |\n",
       "|  5 | 23.31855 |\n",
       "|  6 | 22.81146 |\n",
       "|  7 | 21.58770 |\n",
       "|  8 | 19.82292 |\n",
       "|  9 | 20.69479 |\n",
       "| 10 | 20.99631 |\n",
       "| 11 | 21.53021 |\n",
       "| 12 | 17.62802 |\n",
       "\n"
      ],
      "text/plain": [
       "   Monat Durschschnitt_In\n",
       "1   1    17.11190        \n",
       "2   2    22.31250        \n",
       "3   3    23.54711        \n",
       "4   4    21.62292        \n",
       "5   5    23.31855        \n",
       "6   6    22.81146        \n",
       "7   7    21.58770        \n",
       "8   8    19.82292        \n",
       "9   9    20.69479        \n",
       "10 10    20.99631        \n",
       "11 11    21.53021        \n",
       "12 12    17.62802        "
      ]
     },
     "metadata": {},
     "output_type": "display_data"
    }
   ],
   "source": [
    "MyDataMon %>% group_by(Monat) %>% summarise(Durschschnitt_In = mean(FUSS_IN)) #Durchschnitt pro Monat IN"
   ]
  },
  {
   "cell_type": "markdown",
   "metadata": {},
   "source": [
    "#### Durchschnitt pro Monat OUT"
   ]
  },
  {
   "cell_type": "code",
   "execution_count": 13,
   "metadata": {
    "collapsed": true,
    "jupyter": {
     "outputs_hidden": true
    }
   },
   "outputs": [
    {
     "name": "stderr",
     "output_type": "stream",
     "text": [
      "`summarise()` ungrouping output (override with `.groups` argument)\n",
      "\n"
     ]
    },
    {
     "data": {
      "text/html": [
       "<table>\n",
       "<caption>A tibble: 12 × 2</caption>\n",
       "<thead>\n",
       "\t<tr><th scope=col>Monat</th><th scope=col>Durschschnitt_OUT</th></tr>\n",
       "\t<tr><th scope=col>&lt;dbl&gt;</th><th scope=col>&lt;dbl&gt;</th></tr>\n",
       "</thead>\n",
       "<tbody>\n",
       "\t<tr><td> 1</td><td>35.82124</td></tr>\n",
       "\t<tr><td> 2</td><td>39.38690</td></tr>\n",
       "\t<tr><td> 3</td><td>40.60734</td></tr>\n",
       "\t<tr><td> 4</td><td>39.43750</td></tr>\n",
       "\t<tr><td> 5</td><td>42.08065</td></tr>\n",
       "\t<tr><td> 6</td><td>36.52465</td></tr>\n",
       "\t<tr><td> 7</td><td>34.48017</td></tr>\n",
       "\t<tr><td> 8</td><td>34.04704</td></tr>\n",
       "\t<tr><td> 9</td><td>39.10104</td></tr>\n",
       "\t<tr><td>10</td><td>41.86539</td></tr>\n",
       "\t<tr><td>11</td><td>44.56493</td></tr>\n",
       "\t<tr><td>12</td><td>35.24630</td></tr>\n",
       "</tbody>\n",
       "</table>\n"
      ],
      "text/latex": [
       "A tibble: 12 × 2\n",
       "\\begin{tabular}{ll}\n",
       " Monat & Durschschnitt\\_OUT\\\\\n",
       " <dbl> & <dbl>\\\\\n",
       "\\hline\n",
       "\t  1 & 35.82124\\\\\n",
       "\t  2 & 39.38690\\\\\n",
       "\t  3 & 40.60734\\\\\n",
       "\t  4 & 39.43750\\\\\n",
       "\t  5 & 42.08065\\\\\n",
       "\t  6 & 36.52465\\\\\n",
       "\t  7 & 34.48017\\\\\n",
       "\t  8 & 34.04704\\\\\n",
       "\t  9 & 39.10104\\\\\n",
       "\t 10 & 41.86539\\\\\n",
       "\t 11 & 44.56493\\\\\n",
       "\t 12 & 35.24630\\\\\n",
       "\\end{tabular}\n"
      ],
      "text/markdown": [
       "\n",
       "A tibble: 12 × 2\n",
       "\n",
       "| Monat &lt;dbl&gt; | Durschschnitt_OUT &lt;dbl&gt; |\n",
       "|---|---|\n",
       "|  1 | 35.82124 |\n",
       "|  2 | 39.38690 |\n",
       "|  3 | 40.60734 |\n",
       "|  4 | 39.43750 |\n",
       "|  5 | 42.08065 |\n",
       "|  6 | 36.52465 |\n",
       "|  7 | 34.48017 |\n",
       "|  8 | 34.04704 |\n",
       "|  9 | 39.10104 |\n",
       "| 10 | 41.86539 |\n",
       "| 11 | 44.56493 |\n",
       "| 12 | 35.24630 |\n",
       "\n"
      ],
      "text/plain": [
       "   Monat Durschschnitt_OUT\n",
       "1   1    35.82124         \n",
       "2   2    39.38690         \n",
       "3   3    40.60734         \n",
       "4   4    39.43750         \n",
       "5   5    42.08065         \n",
       "6   6    36.52465         \n",
       "7   7    34.48017         \n",
       "8   8    34.04704         \n",
       "9   9    39.10104         \n",
       "10 10    41.86539         \n",
       "11 11    44.56493         \n",
       "12 12    35.24630         "
      ]
     },
     "metadata": {},
     "output_type": "display_data"
    }
   ],
   "source": [
    "MyDataMon %>% group_by(Monat) %>% summarise(Durschschnitt_OUT = mean(FUSS_OUT)) #Durchschnitt pro Monat Out"
   ]
  },
  {
   "cell_type": "code",
   "execution_count": 81,
   "metadata": {},
   "outputs": [],
   "source": [
    "MyDataMon %>% select(FUSS_IN,FUSS_OUT,Monat) %>% mutate(\n",
    "    Total = FUSS_IN + FUSS_OUT\n",
    ") -> MyDataMonTot  #Fuss in und out zusammen"
   ]
  },
  {
   "cell_type": "markdown",
   "metadata": {},
   "source": [
    "#### Durchschnitt pro Monat beide Richtungen"
   ]
  },
  {
   "cell_type": "code",
   "execution_count": 82,
   "metadata": {
    "collapsed": true,
    "jupyter": {
     "outputs_hidden": true
    }
   },
   "outputs": [
    {
     "name": "stderr",
     "output_type": "stream",
     "text": [
      "`summarise()` ungrouping output (override with `.groups` argument)\n",
      "\n"
     ]
    },
    {
     "data": {
      "text/html": [
       "<table>\n",
       "<caption>A tibble: 12 × 2</caption>\n",
       "<thead>\n",
       "\t<tr><th scope=col>Monat</th><th scope=col>Total</th></tr>\n",
       "\t<tr><th scope=col>&lt;dbl&gt;</th><th scope=col>&lt;dbl&gt;</th></tr>\n",
       "</thead>\n",
       "<tbody>\n",
       "\t<tr><td> 1</td><td>52.93313</td></tr>\n",
       "\t<tr><td> 2</td><td>61.69940</td></tr>\n",
       "\t<tr><td> 3</td><td>64.15444</td></tr>\n",
       "\t<tr><td> 4</td><td>61.06042</td></tr>\n",
       "\t<tr><td> 5</td><td>65.39919</td></tr>\n",
       "\t<tr><td> 6</td><td>59.33611</td></tr>\n",
       "\t<tr><td> 7</td><td>56.06788</td></tr>\n",
       "\t<tr><td> 8</td><td>53.86996</td></tr>\n",
       "\t<tr><td> 9</td><td>59.79583</td></tr>\n",
       "\t<tr><td>10</td><td>62.86170</td></tr>\n",
       "\t<tr><td>11</td><td>66.09514</td></tr>\n",
       "\t<tr><td>12</td><td>52.87433</td></tr>\n",
       "</tbody>\n",
       "</table>\n"
      ],
      "text/latex": [
       "A tibble: 12 × 2\n",
       "\\begin{tabular}{ll}\n",
       " Monat & Total\\\\\n",
       " <dbl> & <dbl>\\\\\n",
       "\\hline\n",
       "\t  1 & 52.93313\\\\\n",
       "\t  2 & 61.69940\\\\\n",
       "\t  3 & 64.15444\\\\\n",
       "\t  4 & 61.06042\\\\\n",
       "\t  5 & 65.39919\\\\\n",
       "\t  6 & 59.33611\\\\\n",
       "\t  7 & 56.06788\\\\\n",
       "\t  8 & 53.86996\\\\\n",
       "\t  9 & 59.79583\\\\\n",
       "\t 10 & 62.86170\\\\\n",
       "\t 11 & 66.09514\\\\\n",
       "\t 12 & 52.87433\\\\\n",
       "\\end{tabular}\n"
      ],
      "text/markdown": [
       "\n",
       "A tibble: 12 × 2\n",
       "\n",
       "| Monat &lt;dbl&gt; | Total &lt;dbl&gt; |\n",
       "|---|---|\n",
       "|  1 | 52.93313 |\n",
       "|  2 | 61.69940 |\n",
       "|  3 | 64.15444 |\n",
       "|  4 | 61.06042 |\n",
       "|  5 | 65.39919 |\n",
       "|  6 | 59.33611 |\n",
       "|  7 | 56.06788 |\n",
       "|  8 | 53.86996 |\n",
       "|  9 | 59.79583 |\n",
       "| 10 | 62.86170 |\n",
       "| 11 | 66.09514 |\n",
       "| 12 | 52.87433 |\n",
       "\n"
      ],
      "text/plain": [
       "   Monat Total   \n",
       "1   1    52.93313\n",
       "2   2    61.69940\n",
       "3   3    64.15444\n",
       "4   4    61.06042\n",
       "5   5    65.39919\n",
       "6   6    59.33611\n",
       "7   7    56.06788\n",
       "8   8    53.86996\n",
       "9   9    59.79583\n",
       "10 10    62.86170\n",
       "11 11    66.09514\n",
       "12 12    52.87433"
      ]
     },
     "metadata": {},
     "output_type": "display_data"
    }
   ],
   "source": [
    "MyDataMonTot %>% group_by(Monat) %>% summarise(Total = mean(Total)) #Fuss in + Out Durchschnitt"
   ]
  },
  {
   "cell_type": "markdown",
   "metadata": {},
   "source": [
    "## Aufgabe 1b"
   ]
  },
  {
   "cell_type": "code",
   "execution_count": 87,
   "metadata": {},
   "outputs": [],
   "source": [
    "MyData %>% mutate(\n",
    "Tag = wday(DATUM,1, label = FALSE)\n",
    ") -> MyDataDay"
   ]
  },
  {
   "cell_type": "markdown",
   "metadata": {},
   "source": [
    "#### Datensätze pro Wochentag"
   ]
  },
  {
   "cell_type": "code",
   "execution_count": 88,
   "metadata": {
    "collapsed": true,
    "jupyter": {
     "outputs_hidden": true
    }
   },
   "outputs": [
    {
     "data": {
      "text/html": [
       "<table>\n",
       "<caption>A spec_tbl_df: 7 × 2</caption>\n",
       "<thead>\n",
       "\t<tr><th scope=col>Tag</th><th scope=col>n</th></tr>\n",
       "\t<tr><th scope=col>&lt;dbl&gt;</th><th scope=col>&lt;int&gt;</th></tr>\n",
       "</thead>\n",
       "<tbody>\n",
       "\t<tr><td>1</td><td>4991</td></tr>\n",
       "\t<tr><td>2</td><td>4992</td></tr>\n",
       "\t<tr><td>3</td><td>5088</td></tr>\n",
       "\t<tr><td>4</td><td>4992</td></tr>\n",
       "\t<tr><td>5</td><td>4992</td></tr>\n",
       "\t<tr><td>6</td><td>4992</td></tr>\n",
       "\t<tr><td>7</td><td>4992</td></tr>\n",
       "</tbody>\n",
       "</table>\n"
      ],
      "text/latex": [
       "A spec\\_tbl\\_df: 7 × 2\n",
       "\\begin{tabular}{ll}\n",
       " Tag & n\\\\\n",
       " <dbl> & <int>\\\\\n",
       "\\hline\n",
       "\t 1 & 4991\\\\\n",
       "\t 2 & 4992\\\\\n",
       "\t 3 & 5088\\\\\n",
       "\t 4 & 4992\\\\\n",
       "\t 5 & 4992\\\\\n",
       "\t 6 & 4992\\\\\n",
       "\t 7 & 4992\\\\\n",
       "\\end{tabular}\n"
      ],
      "text/markdown": [
       "\n",
       "A spec_tbl_df: 7 × 2\n",
       "\n",
       "| Tag &lt;dbl&gt; | n &lt;int&gt; |\n",
       "|---|---|\n",
       "| 1 | 4991 |\n",
       "| 2 | 4992 |\n",
       "| 3 | 5088 |\n",
       "| 4 | 4992 |\n",
       "| 5 | 4992 |\n",
       "| 6 | 4992 |\n",
       "| 7 | 4992 |\n",
       "\n"
      ],
      "text/plain": [
       "  Tag n   \n",
       "1 1   4991\n",
       "2 2   4992\n",
       "3 3   5088\n",
       "4 4   4992\n",
       "5 5   4992\n",
       "6 6   4992\n",
       "7 7   4992"
      ]
     },
     "metadata": {},
     "output_type": "display_data"
    }
   ],
   "source": [
    "MyDataDay %>% count(Tag)"
   ]
  },
  {
   "cell_type": "markdown",
   "metadata": {},
   "source": [
    "#### Durchschnitt pro Monat IN"
   ]
  },
  {
   "cell_type": "code",
   "execution_count": 95,
   "metadata": {
    "collapsed": true,
    "jupyter": {
     "outputs_hidden": true
    }
   },
   "outputs": [
    {
     "name": "stderr",
     "output_type": "stream",
     "text": [
      "`summarise()` ungrouping output (override with `.groups` argument)\n",
      "\n"
     ]
    },
    {
     "data": {
      "text/html": [
       "<table>\n",
       "<caption>A tibble: 7 × 2</caption>\n",
       "<thead>\n",
       "\t<tr><th scope=col>Tag</th><th scope=col>Durschschnitt_In</th></tr>\n",
       "\t<tr><th scope=col>&lt;dbl&gt;</th><th scope=col>&lt;dbl&gt;</th></tr>\n",
       "</thead>\n",
       "<tbody>\n",
       "\t<tr><td>1</td><td>14.42396</td></tr>\n",
       "\t<tr><td>2</td><td>22.81591</td></tr>\n",
       "\t<tr><td>3</td><td>24.11085</td></tr>\n",
       "\t<tr><td>4</td><td>24.46394</td></tr>\n",
       "\t<tr><td>5</td><td>24.66887</td></tr>\n",
       "\t<tr><td>6</td><td>22.59736</td></tr>\n",
       "\t<tr><td>7</td><td>14.31591</td></tr>\n",
       "</tbody>\n",
       "</table>\n"
      ],
      "text/latex": [
       "A tibble: 7 × 2\n",
       "\\begin{tabular}{ll}\n",
       " Tag & Durschschnitt\\_In\\\\\n",
       " <dbl> & <dbl>\\\\\n",
       "\\hline\n",
       "\t 1 & 14.42396\\\\\n",
       "\t 2 & 22.81591\\\\\n",
       "\t 3 & 24.11085\\\\\n",
       "\t 4 & 24.46394\\\\\n",
       "\t 5 & 24.66887\\\\\n",
       "\t 6 & 22.59736\\\\\n",
       "\t 7 & 14.31591\\\\\n",
       "\\end{tabular}\n"
      ],
      "text/markdown": [
       "\n",
       "A tibble: 7 × 2\n",
       "\n",
       "| Tag &lt;dbl&gt; | Durschschnitt_In &lt;dbl&gt; |\n",
       "|---|---|\n",
       "| 1 | 14.42396 |\n",
       "| 2 | 22.81591 |\n",
       "| 3 | 24.11085 |\n",
       "| 4 | 24.46394 |\n",
       "| 5 | 24.66887 |\n",
       "| 6 | 22.59736 |\n",
       "| 7 | 14.31591 |\n",
       "\n"
      ],
      "text/plain": [
       "  Tag Durschschnitt_In\n",
       "1 1   14.42396        \n",
       "2 2   22.81591        \n",
       "3 3   24.11085        \n",
       "4 4   24.46394        \n",
       "5 5   24.66887        \n",
       "6 6   22.59736        \n",
       "7 7   14.31591        "
      ]
     },
     "metadata": {},
     "output_type": "display_data"
    }
   ],
   "source": [
    "MyDataDay %>% group_by(Tag) %>% summarise(Durschschnitt_In = mean(FUSS_IN))"
   ]
  },
  {
   "cell_type": "markdown",
   "metadata": {},
   "source": [
    "#### Durchschnitt pro Monat OUT"
   ]
  },
  {
   "cell_type": "code",
   "execution_count": 90,
   "metadata": {
    "collapsed": true,
    "jupyter": {
     "outputs_hidden": true
    }
   },
   "outputs": [
    {
     "name": "stderr",
     "output_type": "stream",
     "text": [
      "`summarise()` ungrouping output (override with `.groups` argument)\n",
      "\n"
     ]
    },
    {
     "data": {
      "text/html": [
       "<table>\n",
       "<caption>A tibble: 7 × 2</caption>\n",
       "<thead>\n",
       "\t<tr><th scope=col>Tag</th><th scope=col>Durschschnitt_Out</th></tr>\n",
       "\t<tr><th scope=col>&lt;dbl&gt;</th><th scope=col>&lt;dbl&gt;</th></tr>\n",
       "</thead>\n",
       "<tbody>\n",
       "\t<tr><td>1</td><td>19.93729</td></tr>\n",
       "\t<tr><td>2</td><td>43.07752</td></tr>\n",
       "\t<tr><td>3</td><td>47.13620</td></tr>\n",
       "\t<tr><td>4</td><td>46.00401</td></tr>\n",
       "\t<tr><td>5</td><td>46.47055</td></tr>\n",
       "\t<tr><td>6</td><td>43.56530</td></tr>\n",
       "\t<tr><td>7</td><td>23.67368</td></tr>\n",
       "</tbody>\n",
       "</table>\n"
      ],
      "text/latex": [
       "A tibble: 7 × 2\n",
       "\\begin{tabular}{ll}\n",
       " Tag & Durschschnitt\\_Out\\\\\n",
       " <dbl> & <dbl>\\\\\n",
       "\\hline\n",
       "\t 1 & 19.93729\\\\\n",
       "\t 2 & 43.07752\\\\\n",
       "\t 3 & 47.13620\\\\\n",
       "\t 4 & 46.00401\\\\\n",
       "\t 5 & 46.47055\\\\\n",
       "\t 6 & 43.56530\\\\\n",
       "\t 7 & 23.67368\\\\\n",
       "\\end{tabular}\n"
      ],
      "text/markdown": [
       "\n",
       "A tibble: 7 × 2\n",
       "\n",
       "| Tag &lt;dbl&gt; | Durschschnitt_Out &lt;dbl&gt; |\n",
       "|---|---|\n",
       "| 1 | 19.93729 |\n",
       "| 2 | 43.07752 |\n",
       "| 3 | 47.13620 |\n",
       "| 4 | 46.00401 |\n",
       "| 5 | 46.47055 |\n",
       "| 6 | 43.56530 |\n",
       "| 7 | 23.67368 |\n",
       "\n"
      ],
      "text/plain": [
       "  Tag Durschschnitt_Out\n",
       "1 1   19.93729         \n",
       "2 2   43.07752         \n",
       "3 3   47.13620         \n",
       "4 4   46.00401         \n",
       "5 5   46.47055         \n",
       "6 6   43.56530         \n",
       "7 7   23.67368         "
      ]
     },
     "metadata": {},
     "output_type": "display_data"
    }
   ],
   "source": [
    "MyDataDay %>% group_by(Tag) %>% summarise(Durschschnitt_Out = mean(FUSS_OUT))"
   ]
  },
  {
   "cell_type": "markdown",
   "metadata": {},
   "source": [
    "#### Durchschnitt pro Monat In und Out"
   ]
  },
  {
   "cell_type": "code",
   "execution_count": 93,
   "metadata": {},
   "outputs": [],
   "source": [
    "MyDataDay %>% select(FUSS_IN,FUSS_OUT,Tag) %>% mutate(\n",
    "    Total = FUSS_IN + FUSS_OUT\n",
    ") -> MyDataDayTot"
   ]
  },
  {
   "cell_type": "code",
   "execution_count": 94,
   "metadata": {
    "collapsed": true,
    "jupyter": {
     "outputs_hidden": true
    }
   },
   "outputs": [
    {
     "name": "stderr",
     "output_type": "stream",
     "text": [
      "`summarise()` ungrouping output (override with `.groups` argument)\n",
      "\n"
     ]
    },
    {
     "data": {
      "text/html": [
       "<table>\n",
       "<caption>A tibble: 7 × 2</caption>\n",
       "<thead>\n",
       "\t<tr><th scope=col>Tag</th><th scope=col>Total</th></tr>\n",
       "\t<tr><th scope=col>&lt;dbl&gt;</th><th scope=col>&lt;dbl&gt;</th></tr>\n",
       "</thead>\n",
       "<tbody>\n",
       "\t<tr><td>1</td><td>34.36125</td></tr>\n",
       "\t<tr><td>2</td><td>65.89343</td></tr>\n",
       "\t<tr><td>3</td><td>71.24705</td></tr>\n",
       "\t<tr><td>4</td><td>70.46795</td></tr>\n",
       "\t<tr><td>5</td><td>71.13942</td></tr>\n",
       "\t<tr><td>6</td><td>66.16266</td></tr>\n",
       "\t<tr><td>7</td><td>37.98958</td></tr>\n",
       "</tbody>\n",
       "</table>\n"
      ],
      "text/latex": [
       "A tibble: 7 × 2\n",
       "\\begin{tabular}{ll}\n",
       " Tag & Total\\\\\n",
       " <dbl> & <dbl>\\\\\n",
       "\\hline\n",
       "\t 1 & 34.36125\\\\\n",
       "\t 2 & 65.89343\\\\\n",
       "\t 3 & 71.24705\\\\\n",
       "\t 4 & 70.46795\\\\\n",
       "\t 5 & 71.13942\\\\\n",
       "\t 6 & 66.16266\\\\\n",
       "\t 7 & 37.98958\\\\\n",
       "\\end{tabular}\n"
      ],
      "text/markdown": [
       "\n",
       "A tibble: 7 × 2\n",
       "\n",
       "| Tag &lt;dbl&gt; | Total &lt;dbl&gt; |\n",
       "|---|---|\n",
       "| 1 | 34.36125 |\n",
       "| 2 | 65.89343 |\n",
       "| 3 | 71.24705 |\n",
       "| 4 | 70.46795 |\n",
       "| 5 | 71.13942 |\n",
       "| 6 | 66.16266 |\n",
       "| 7 | 37.98958 |\n",
       "\n"
      ],
      "text/plain": [
       "  Tag Total   \n",
       "1 1   34.36125\n",
       "2 2   65.89343\n",
       "3 3   71.24705\n",
       "4 4   70.46795\n",
       "5 5   71.13942\n",
       "6 6   66.16266\n",
       "7 7   37.98958"
      ]
     },
     "metadata": {},
     "output_type": "display_data"
    }
   ],
   "source": [
    "MyDataDayTot %>% group_by(Tag) %>% summarise(Total = mean(Total))"
   ]
  },
  {
   "cell_type": "markdown",
   "metadata": {},
   "source": [
    "## Aufgabe 1c"
   ]
  },
  {
   "cell_type": "code",
   "execution_count": 101,
   "metadata": {},
   "outputs": [],
   "source": [
    "MyData %>% mutate(\n",
    "Stunde = hour(DATUM)\n",
    ") -> MyDataHour"
   ]
  },
  {
   "cell_type": "markdown",
   "metadata": {},
   "source": [
    "#### Datensätze pro Stunde"
   ]
  },
  {
   "cell_type": "code",
   "execution_count": 102,
   "metadata": {
    "collapsed": true,
    "jupyter": {
     "outputs_hidden": true
    }
   },
   "outputs": [
    {
     "data": {
      "text/html": [
       "<table>\n",
       "<caption>A spec_tbl_df: 24 × 2</caption>\n",
       "<thead>\n",
       "\t<tr><th scope=col>Stunde</th><th scope=col>n</th></tr>\n",
       "\t<tr><th scope=col>&lt;int&gt;</th><th scope=col>&lt;int&gt;</th></tr>\n",
       "</thead>\n",
       "<tbody>\n",
       "\t<tr><td> 0</td><td>1460</td></tr>\n",
       "\t<tr><td> 1</td><td>1460</td></tr>\n",
       "\t<tr><td> 2</td><td>1459</td></tr>\n",
       "\t<tr><td> 3</td><td>1460</td></tr>\n",
       "\t<tr><td> 4</td><td>1460</td></tr>\n",
       "\t<tr><td> 5</td><td>1460</td></tr>\n",
       "\t<tr><td> 6</td><td>1460</td></tr>\n",
       "\t<tr><td> 7</td><td>1460</td></tr>\n",
       "\t<tr><td> 8</td><td>1460</td></tr>\n",
       "\t<tr><td> 9</td><td>1460</td></tr>\n",
       "\t<tr><td>10</td><td>1460</td></tr>\n",
       "\t<tr><td>11</td><td>1460</td></tr>\n",
       "\t<tr><td>12</td><td>1460</td></tr>\n",
       "\t<tr><td>13</td><td>1460</td></tr>\n",
       "\t<tr><td>14</td><td>1460</td></tr>\n",
       "\t<tr><td>15</td><td>1460</td></tr>\n",
       "\t<tr><td>16</td><td>1460</td></tr>\n",
       "\t<tr><td>17</td><td>1460</td></tr>\n",
       "\t<tr><td>18</td><td>1460</td></tr>\n",
       "\t<tr><td>19</td><td>1460</td></tr>\n",
       "\t<tr><td>20</td><td>1460</td></tr>\n",
       "\t<tr><td>21</td><td>1460</td></tr>\n",
       "\t<tr><td>22</td><td>1460</td></tr>\n",
       "\t<tr><td>23</td><td>1460</td></tr>\n",
       "</tbody>\n",
       "</table>\n"
      ],
      "text/latex": [
       "A spec\\_tbl\\_df: 24 × 2\n",
       "\\begin{tabular}{ll}\n",
       " Stunde & n\\\\\n",
       " <int> & <int>\\\\\n",
       "\\hline\n",
       "\t  0 & 1460\\\\\n",
       "\t  1 & 1460\\\\\n",
       "\t  2 & 1459\\\\\n",
       "\t  3 & 1460\\\\\n",
       "\t  4 & 1460\\\\\n",
       "\t  5 & 1460\\\\\n",
       "\t  6 & 1460\\\\\n",
       "\t  7 & 1460\\\\\n",
       "\t  8 & 1460\\\\\n",
       "\t  9 & 1460\\\\\n",
       "\t 10 & 1460\\\\\n",
       "\t 11 & 1460\\\\\n",
       "\t 12 & 1460\\\\\n",
       "\t 13 & 1460\\\\\n",
       "\t 14 & 1460\\\\\n",
       "\t 15 & 1460\\\\\n",
       "\t 16 & 1460\\\\\n",
       "\t 17 & 1460\\\\\n",
       "\t 18 & 1460\\\\\n",
       "\t 19 & 1460\\\\\n",
       "\t 20 & 1460\\\\\n",
       "\t 21 & 1460\\\\\n",
       "\t 22 & 1460\\\\\n",
       "\t 23 & 1460\\\\\n",
       "\\end{tabular}\n"
      ],
      "text/markdown": [
       "\n",
       "A spec_tbl_df: 24 × 2\n",
       "\n",
       "| Stunde &lt;int&gt; | n &lt;int&gt; |\n",
       "|---|---|\n",
       "|  0 | 1460 |\n",
       "|  1 | 1460 |\n",
       "|  2 | 1459 |\n",
       "|  3 | 1460 |\n",
       "|  4 | 1460 |\n",
       "|  5 | 1460 |\n",
       "|  6 | 1460 |\n",
       "|  7 | 1460 |\n",
       "|  8 | 1460 |\n",
       "|  9 | 1460 |\n",
       "| 10 | 1460 |\n",
       "| 11 | 1460 |\n",
       "| 12 | 1460 |\n",
       "| 13 | 1460 |\n",
       "| 14 | 1460 |\n",
       "| 15 | 1460 |\n",
       "| 16 | 1460 |\n",
       "| 17 | 1460 |\n",
       "| 18 | 1460 |\n",
       "| 19 | 1460 |\n",
       "| 20 | 1460 |\n",
       "| 21 | 1460 |\n",
       "| 22 | 1460 |\n",
       "| 23 | 1460 |\n",
       "\n"
      ],
      "text/plain": [
       "   Stunde n   \n",
       "1   0     1460\n",
       "2   1     1460\n",
       "3   2     1459\n",
       "4   3     1460\n",
       "5   4     1460\n",
       "6   5     1460\n",
       "7   6     1460\n",
       "8   7     1460\n",
       "9   8     1460\n",
       "10  9     1460\n",
       "11 10     1460\n",
       "12 11     1460\n",
       "13 12     1460\n",
       "14 13     1460\n",
       "15 14     1460\n",
       "16 15     1460\n",
       "17 16     1460\n",
       "18 17     1460\n",
       "19 18     1460\n",
       "20 19     1460\n",
       "21 20     1460\n",
       "22 21     1460\n",
       "23 22     1460\n",
       "24 23     1460"
      ]
     },
     "metadata": {},
     "output_type": "display_data"
    }
   ],
   "source": [
    "MyDataHour %>% count(Stunde)"
   ]
  },
  {
   "cell_type": "markdown",
   "metadata": {},
   "source": [
    "#### Durchschnitt pro Stunde IN"
   ]
  },
  {
   "cell_type": "code",
   "execution_count": 103,
   "metadata": {
    "collapsed": true,
    "jupyter": {
     "outputs_hidden": true
    }
   },
   "outputs": [
    {
     "name": "stderr",
     "output_type": "stream",
     "text": [
      "`summarise()` ungrouping output (override with `.groups` argument)\n",
      "\n"
     ]
    },
    {
     "data": {
      "text/html": [
       "<table>\n",
       "<caption>A tibble: 24 × 2</caption>\n",
       "<thead>\n",
       "\t<tr><th scope=col>Stunde</th><th scope=col>Durschschnitt_In</th></tr>\n",
       "\t<tr><th scope=col>&lt;int&gt;</th><th scope=col>&lt;dbl&gt;</th></tr>\n",
       "</thead>\n",
       "<tbody>\n",
       "\t<tr><td> 0</td><td> 4.636301</td></tr>\n",
       "\t<tr><td> 1</td><td> 3.282192</td></tr>\n",
       "\t<tr><td> 2</td><td> 2.012337</td></tr>\n",
       "\t<tr><td> 3</td><td> 1.610274</td></tr>\n",
       "\t<tr><td> 4</td><td> 1.128082</td></tr>\n",
       "\t<tr><td> 5</td><td> 2.469863</td></tr>\n",
       "\t<tr><td> 6</td><td>15.749315</td></tr>\n",
       "\t<tr><td> 7</td><td>49.489726</td></tr>\n",
       "\t<tr><td> 8</td><td>55.669863</td></tr>\n",
       "\t<tr><td> 9</td><td>34.019178</td></tr>\n",
       "\t<tr><td>10</td><td>22.412329</td></tr>\n",
       "\t<tr><td>11</td><td>22.093151</td></tr>\n",
       "\t<tr><td>12</td><td>25.978082</td></tr>\n",
       "\t<tr><td>13</td><td>26.536301</td></tr>\n",
       "\t<tr><td>14</td><td>23.560274</td></tr>\n",
       "\t<tr><td>15</td><td>32.546575</td></tr>\n",
       "\t<tr><td>16</td><td>35.822603</td></tr>\n",
       "\t<tr><td>17</td><td>37.478082</td></tr>\n",
       "\t<tr><td>18</td><td>29.368493</td></tr>\n",
       "\t<tr><td>19</td><td>23.110274</td></tr>\n",
       "\t<tr><td>20</td><td>18.634932</td></tr>\n",
       "\t<tr><td>21</td><td>16.030822</td></tr>\n",
       "\t<tr><td>22</td><td>13.952055</td></tr>\n",
       "\t<tr><td>23</td><td> 7.961644</td></tr>\n",
       "</tbody>\n",
       "</table>\n"
      ],
      "text/latex": [
       "A tibble: 24 × 2\n",
       "\\begin{tabular}{ll}\n",
       " Stunde & Durschschnitt\\_In\\\\\n",
       " <int> & <dbl>\\\\\n",
       "\\hline\n",
       "\t  0 &  4.636301\\\\\n",
       "\t  1 &  3.282192\\\\\n",
       "\t  2 &  2.012337\\\\\n",
       "\t  3 &  1.610274\\\\\n",
       "\t  4 &  1.128082\\\\\n",
       "\t  5 &  2.469863\\\\\n",
       "\t  6 & 15.749315\\\\\n",
       "\t  7 & 49.489726\\\\\n",
       "\t  8 & 55.669863\\\\\n",
       "\t  9 & 34.019178\\\\\n",
       "\t 10 & 22.412329\\\\\n",
       "\t 11 & 22.093151\\\\\n",
       "\t 12 & 25.978082\\\\\n",
       "\t 13 & 26.536301\\\\\n",
       "\t 14 & 23.560274\\\\\n",
       "\t 15 & 32.546575\\\\\n",
       "\t 16 & 35.822603\\\\\n",
       "\t 17 & 37.478082\\\\\n",
       "\t 18 & 29.368493\\\\\n",
       "\t 19 & 23.110274\\\\\n",
       "\t 20 & 18.634932\\\\\n",
       "\t 21 & 16.030822\\\\\n",
       "\t 22 & 13.952055\\\\\n",
       "\t 23 &  7.961644\\\\\n",
       "\\end{tabular}\n"
      ],
      "text/markdown": [
       "\n",
       "A tibble: 24 × 2\n",
       "\n",
       "| Stunde &lt;int&gt; | Durschschnitt_In &lt;dbl&gt; |\n",
       "|---|---|\n",
       "|  0 |  4.636301 |\n",
       "|  1 |  3.282192 |\n",
       "|  2 |  2.012337 |\n",
       "|  3 |  1.610274 |\n",
       "|  4 |  1.128082 |\n",
       "|  5 |  2.469863 |\n",
       "|  6 | 15.749315 |\n",
       "|  7 | 49.489726 |\n",
       "|  8 | 55.669863 |\n",
       "|  9 | 34.019178 |\n",
       "| 10 | 22.412329 |\n",
       "| 11 | 22.093151 |\n",
       "| 12 | 25.978082 |\n",
       "| 13 | 26.536301 |\n",
       "| 14 | 23.560274 |\n",
       "| 15 | 32.546575 |\n",
       "| 16 | 35.822603 |\n",
       "| 17 | 37.478082 |\n",
       "| 18 | 29.368493 |\n",
       "| 19 | 23.110274 |\n",
       "| 20 | 18.634932 |\n",
       "| 21 | 16.030822 |\n",
       "| 22 | 13.952055 |\n",
       "| 23 |  7.961644 |\n",
       "\n"
      ],
      "text/plain": [
       "   Stunde Durschschnitt_In\n",
       "1   0      4.636301       \n",
       "2   1      3.282192       \n",
       "3   2      2.012337       \n",
       "4   3      1.610274       \n",
       "5   4      1.128082       \n",
       "6   5      2.469863       \n",
       "7   6     15.749315       \n",
       "8   7     49.489726       \n",
       "9   8     55.669863       \n",
       "10  9     34.019178       \n",
       "11 10     22.412329       \n",
       "12 11     22.093151       \n",
       "13 12     25.978082       \n",
       "14 13     26.536301       \n",
       "15 14     23.560274       \n",
       "16 15     32.546575       \n",
       "17 16     35.822603       \n",
       "18 17     37.478082       \n",
       "19 18     29.368493       \n",
       "20 19     23.110274       \n",
       "21 20     18.634932       \n",
       "22 21     16.030822       \n",
       "23 22     13.952055       \n",
       "24 23      7.961644       "
      ]
     },
     "metadata": {},
     "output_type": "display_data"
    }
   ],
   "source": [
    "MyDataHour %>% group_by(Stunde) %>% summarise(Durschschnitt_In = mean(FUSS_IN))"
   ]
  },
  {
   "cell_type": "markdown",
   "metadata": {},
   "source": [
    "#### Durchschnitt pro Stunde OUT"
   ]
  },
  {
   "cell_type": "code",
   "execution_count": 104,
   "metadata": {
    "collapsed": true,
    "jupyter": {
     "outputs_hidden": true
    }
   },
   "outputs": [
    {
     "name": "stderr",
     "output_type": "stream",
     "text": [
      "`summarise()` ungrouping output (override with `.groups` argument)\n",
      "\n"
     ]
    },
    {
     "data": {
      "text/html": [
       "<table>\n",
       "<caption>A tibble: 24 × 2</caption>\n",
       "<thead>\n",
       "\t<tr><th scope=col>Stunde</th><th scope=col>Durschschnitt_OUT</th></tr>\n",
       "\t<tr><th scope=col>&lt;int&gt;</th><th scope=col>&lt;dbl&gt;</th></tr>\n",
       "</thead>\n",
       "<tbody>\n",
       "\t<tr><td> 0</td><td>  5.3109589</td></tr>\n",
       "\t<tr><td> 1</td><td>  2.0568493</td></tr>\n",
       "\t<tr><td> 2</td><td>  1.1617546</td></tr>\n",
       "\t<tr><td> 3</td><td>  0.8609589</td></tr>\n",
       "\t<tr><td> 4</td><td>  0.9136986</td></tr>\n",
       "\t<tr><td> 5</td><td>  4.0301370</td></tr>\n",
       "\t<tr><td> 6</td><td> 15.7698630</td></tr>\n",
       "\t<tr><td> 7</td><td> 41.4102740</td></tr>\n",
       "\t<tr><td> 8</td><td> 39.8869863</td></tr>\n",
       "\t<tr><td> 9</td><td> 30.2643836</td></tr>\n",
       "\t<tr><td>10</td><td> 30.6493151</td></tr>\n",
       "\t<tr><td>11</td><td> 37.6760274</td></tr>\n",
       "\t<tr><td>12</td><td> 50.1486301</td></tr>\n",
       "\t<tr><td>13</td><td> 42.4465753</td></tr>\n",
       "\t<tr><td>14</td><td> 42.8842466</td></tr>\n",
       "\t<tr><td>15</td><td> 67.6561644</td></tr>\n",
       "\t<tr><td>16</td><td>115.9020548</td></tr>\n",
       "\t<tr><td>17</td><td>138.6630137</td></tr>\n",
       "\t<tr><td>18</td><td> 90.2863014</td></tr>\n",
       "\t<tr><td>19</td><td> 60.3458904</td></tr>\n",
       "\t<tr><td>20</td><td> 39.5547945</td></tr>\n",
       "\t<tr><td>21</td><td> 30.1561644</td></tr>\n",
       "\t<tr><td>22</td><td> 19.8178082</td></tr>\n",
       "\t<tr><td>23</td><td> 17.9486301</td></tr>\n",
       "</tbody>\n",
       "</table>\n"
      ],
      "text/latex": [
       "A tibble: 24 × 2\n",
       "\\begin{tabular}{ll}\n",
       " Stunde & Durschschnitt\\_OUT\\\\\n",
       " <int> & <dbl>\\\\\n",
       "\\hline\n",
       "\t  0 &   5.3109589\\\\\n",
       "\t  1 &   2.0568493\\\\\n",
       "\t  2 &   1.1617546\\\\\n",
       "\t  3 &   0.8609589\\\\\n",
       "\t  4 &   0.9136986\\\\\n",
       "\t  5 &   4.0301370\\\\\n",
       "\t  6 &  15.7698630\\\\\n",
       "\t  7 &  41.4102740\\\\\n",
       "\t  8 &  39.8869863\\\\\n",
       "\t  9 &  30.2643836\\\\\n",
       "\t 10 &  30.6493151\\\\\n",
       "\t 11 &  37.6760274\\\\\n",
       "\t 12 &  50.1486301\\\\\n",
       "\t 13 &  42.4465753\\\\\n",
       "\t 14 &  42.8842466\\\\\n",
       "\t 15 &  67.6561644\\\\\n",
       "\t 16 & 115.9020548\\\\\n",
       "\t 17 & 138.6630137\\\\\n",
       "\t 18 &  90.2863014\\\\\n",
       "\t 19 &  60.3458904\\\\\n",
       "\t 20 &  39.5547945\\\\\n",
       "\t 21 &  30.1561644\\\\\n",
       "\t 22 &  19.8178082\\\\\n",
       "\t 23 &  17.9486301\\\\\n",
       "\\end{tabular}\n"
      ],
      "text/markdown": [
       "\n",
       "A tibble: 24 × 2\n",
       "\n",
       "| Stunde &lt;int&gt; | Durschschnitt_OUT &lt;dbl&gt; |\n",
       "|---|---|\n",
       "|  0 |   5.3109589 |\n",
       "|  1 |   2.0568493 |\n",
       "|  2 |   1.1617546 |\n",
       "|  3 |   0.8609589 |\n",
       "|  4 |   0.9136986 |\n",
       "|  5 |   4.0301370 |\n",
       "|  6 |  15.7698630 |\n",
       "|  7 |  41.4102740 |\n",
       "|  8 |  39.8869863 |\n",
       "|  9 |  30.2643836 |\n",
       "| 10 |  30.6493151 |\n",
       "| 11 |  37.6760274 |\n",
       "| 12 |  50.1486301 |\n",
       "| 13 |  42.4465753 |\n",
       "| 14 |  42.8842466 |\n",
       "| 15 |  67.6561644 |\n",
       "| 16 | 115.9020548 |\n",
       "| 17 | 138.6630137 |\n",
       "| 18 |  90.2863014 |\n",
       "| 19 |  60.3458904 |\n",
       "| 20 |  39.5547945 |\n",
       "| 21 |  30.1561644 |\n",
       "| 22 |  19.8178082 |\n",
       "| 23 |  17.9486301 |\n",
       "\n"
      ],
      "text/plain": [
       "   Stunde Durschschnitt_OUT\n",
       "1   0       5.3109589      \n",
       "2   1       2.0568493      \n",
       "3   2       1.1617546      \n",
       "4   3       0.8609589      \n",
       "5   4       0.9136986      \n",
       "6   5       4.0301370      \n",
       "7   6      15.7698630      \n",
       "8   7      41.4102740      \n",
       "9   8      39.8869863      \n",
       "10  9      30.2643836      \n",
       "11 10      30.6493151      \n",
       "12 11      37.6760274      \n",
       "13 12      50.1486301      \n",
       "14 13      42.4465753      \n",
       "15 14      42.8842466      \n",
       "16 15      67.6561644      \n",
       "17 16     115.9020548      \n",
       "18 17     138.6630137      \n",
       "19 18      90.2863014      \n",
       "20 19      60.3458904      \n",
       "21 20      39.5547945      \n",
       "22 21      30.1561644      \n",
       "23 22      19.8178082      \n",
       "24 23      17.9486301      "
      ]
     },
     "metadata": {},
     "output_type": "display_data"
    }
   ],
   "source": [
    "MyDataHour %>% group_by(Stunde) %>% summarise(Durschschnitt_OUT = mean(FUSS_OUT))"
   ]
  },
  {
   "cell_type": "markdown",
   "metadata": {},
   "source": [
    "#### Durchschnitt pro Stunde IN und OUT"
   ]
  },
  {
   "cell_type": "code",
   "execution_count": 106,
   "metadata": {},
   "outputs": [],
   "source": [
    "MyDataHour %>% select(FUSS_IN,FUSS_OUT,Stunde) %>% mutate(\n",
    "    Total = FUSS_IN + FUSS_OUT\n",
    ") -> MyDataHourTot"
   ]
  },
  {
   "cell_type": "code",
   "execution_count": 109,
   "metadata": {
    "collapsed": true,
    "jupyter": {
     "outputs_hidden": true
    }
   },
   "outputs": [
    {
     "name": "stderr",
     "output_type": "stream",
     "text": [
      "`summarise()` ungrouping output (override with `.groups` argument)\n",
      "\n"
     ]
    },
    {
     "data": {
      "text/html": [
       "<table>\n",
       "<caption>A tibble: 24 × 2</caption>\n",
       "<thead>\n",
       "\t<tr><th scope=col>Stunde</th><th scope=col>Total</th></tr>\n",
       "\t<tr><th scope=col>&lt;int&gt;</th><th scope=col>&lt;dbl&gt;</th></tr>\n",
       "</thead>\n",
       "<tbody>\n",
       "\t<tr><td> 0</td><td>  9.947260</td></tr>\n",
       "\t<tr><td> 1</td><td>  5.339041</td></tr>\n",
       "\t<tr><td> 2</td><td>  3.174092</td></tr>\n",
       "\t<tr><td> 3</td><td>  2.471233</td></tr>\n",
       "\t<tr><td> 4</td><td>  2.041781</td></tr>\n",
       "\t<tr><td> 5</td><td>  6.500000</td></tr>\n",
       "\t<tr><td> 6</td><td> 31.519178</td></tr>\n",
       "\t<tr><td> 7</td><td> 90.900000</td></tr>\n",
       "\t<tr><td> 8</td><td> 95.556849</td></tr>\n",
       "\t<tr><td> 9</td><td> 64.283562</td></tr>\n",
       "\t<tr><td>10</td><td> 53.061644</td></tr>\n",
       "\t<tr><td>11</td><td> 59.769178</td></tr>\n",
       "\t<tr><td>12</td><td> 76.126712</td></tr>\n",
       "\t<tr><td>13</td><td> 68.982877</td></tr>\n",
       "\t<tr><td>14</td><td> 66.444521</td></tr>\n",
       "\t<tr><td>15</td><td>100.202740</td></tr>\n",
       "\t<tr><td>16</td><td>151.724658</td></tr>\n",
       "\t<tr><td>17</td><td>176.141096</td></tr>\n",
       "\t<tr><td>18</td><td>119.654795</td></tr>\n",
       "\t<tr><td>19</td><td> 83.456164</td></tr>\n",
       "\t<tr><td>20</td><td> 58.189726</td></tr>\n",
       "\t<tr><td>21</td><td> 46.186986</td></tr>\n",
       "\t<tr><td>22</td><td> 33.769863</td></tr>\n",
       "\t<tr><td>23</td><td> 25.910274</td></tr>\n",
       "</tbody>\n",
       "</table>\n"
      ],
      "text/latex": [
       "A tibble: 24 × 2\n",
       "\\begin{tabular}{ll}\n",
       " Stunde & Total\\\\\n",
       " <int> & <dbl>\\\\\n",
       "\\hline\n",
       "\t  0 &   9.947260\\\\\n",
       "\t  1 &   5.339041\\\\\n",
       "\t  2 &   3.174092\\\\\n",
       "\t  3 &   2.471233\\\\\n",
       "\t  4 &   2.041781\\\\\n",
       "\t  5 &   6.500000\\\\\n",
       "\t  6 &  31.519178\\\\\n",
       "\t  7 &  90.900000\\\\\n",
       "\t  8 &  95.556849\\\\\n",
       "\t  9 &  64.283562\\\\\n",
       "\t 10 &  53.061644\\\\\n",
       "\t 11 &  59.769178\\\\\n",
       "\t 12 &  76.126712\\\\\n",
       "\t 13 &  68.982877\\\\\n",
       "\t 14 &  66.444521\\\\\n",
       "\t 15 & 100.202740\\\\\n",
       "\t 16 & 151.724658\\\\\n",
       "\t 17 & 176.141096\\\\\n",
       "\t 18 & 119.654795\\\\\n",
       "\t 19 &  83.456164\\\\\n",
       "\t 20 &  58.189726\\\\\n",
       "\t 21 &  46.186986\\\\\n",
       "\t 22 &  33.769863\\\\\n",
       "\t 23 &  25.910274\\\\\n",
       "\\end{tabular}\n"
      ],
      "text/markdown": [
       "\n",
       "A tibble: 24 × 2\n",
       "\n",
       "| Stunde &lt;int&gt; | Total &lt;dbl&gt; |\n",
       "|---|---|\n",
       "|  0 |   9.947260 |\n",
       "|  1 |   5.339041 |\n",
       "|  2 |   3.174092 |\n",
       "|  3 |   2.471233 |\n",
       "|  4 |   2.041781 |\n",
       "|  5 |   6.500000 |\n",
       "|  6 |  31.519178 |\n",
       "|  7 |  90.900000 |\n",
       "|  8 |  95.556849 |\n",
       "|  9 |  64.283562 |\n",
       "| 10 |  53.061644 |\n",
       "| 11 |  59.769178 |\n",
       "| 12 |  76.126712 |\n",
       "| 13 |  68.982877 |\n",
       "| 14 |  66.444521 |\n",
       "| 15 | 100.202740 |\n",
       "| 16 | 151.724658 |\n",
       "| 17 | 176.141096 |\n",
       "| 18 | 119.654795 |\n",
       "| 19 |  83.456164 |\n",
       "| 20 |  58.189726 |\n",
       "| 21 |  46.186986 |\n",
       "| 22 |  33.769863 |\n",
       "| 23 |  25.910274 |\n",
       "\n"
      ],
      "text/plain": [
       "   Stunde Total     \n",
       "1   0       9.947260\n",
       "2   1       5.339041\n",
       "3   2       3.174092\n",
       "4   3       2.471233\n",
       "5   4       2.041781\n",
       "6   5       6.500000\n",
       "7   6      31.519178\n",
       "8   7      90.900000\n",
       "9   8      95.556849\n",
       "10  9      64.283562\n",
       "11 10      53.061644\n",
       "12 11      59.769178\n",
       "13 12      76.126712\n",
       "14 13      68.982877\n",
       "15 14      66.444521\n",
       "16 15     100.202740\n",
       "17 16     151.724658\n",
       "18 17     176.141096\n",
       "19 18     119.654795\n",
       "20 19      83.456164\n",
       "21 20      58.189726\n",
       "22 21      46.186986\n",
       "23 22      33.769863\n",
       "24 23      25.910274"
      ]
     },
     "metadata": {},
     "output_type": "display_data"
    }
   ],
   "source": [
    "MyDataHourTot %>% group_by(Stunde) %>% summarise(Total = mean(Total))"
   ]
  },
  {
   "cell_type": "code",
   "execution_count": null,
   "metadata": {},
   "outputs": [],
   "source": []
  }
 ],
 "metadata": {
  "kernelspec": {
   "display_name": "R",
   "language": "R",
   "name": "ir"
  },
  "language_info": {
   "codemirror_mode": "r",
   "file_extension": ".r",
   "mimetype": "text/x-r-source",
   "name": "R",
   "pygments_lexer": "r",
   "version": "3.6.3"
  }
 },
 "nbformat": 4,
 "nbformat_minor": 4
}
